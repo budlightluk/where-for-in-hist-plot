{
 "cells": [
  {
   "cell_type": "code",
   "execution_count": 1,
   "id": "5e01abce",
   "metadata": {},
   "outputs": [
    {
     "data": {
      "text/html": [
       "<div>\n",
       "<style scoped>\n",
       "    .dataframe tbody tr th:only-of-type {\n",
       "        vertical-align: middle;\n",
       "    }\n",
       "\n",
       "    .dataframe tbody tr th {\n",
       "        vertical-align: top;\n",
       "    }\n",
       "\n",
       "    .dataframe thead th {\n",
       "        text-align: right;\n",
       "    }\n",
       "</style>\n",
       "<table border=\"1\" class=\"dataframe\">\n",
       "  <thead>\n",
       "    <tr style=\"text-align: right;\">\n",
       "      <th></th>\n",
       "      <th>time_spent</th>\n",
       "      <th>good_time_spent</th>\n",
       "      <th>median_time</th>\n",
       "      <th>stations</th>\n",
       "    </tr>\n",
       "    <tr>\n",
       "      <th>name</th>\n",
       "      <th></th>\n",
       "      <th></th>\n",
       "      <th></th>\n",
       "      <th></th>\n",
       "    </tr>\n",
       "  </thead>\n",
       "  <tbody>\n",
       "    <tr>\n",
       "      <th>Агератум</th>\n",
       "      <td>337.802721</td>\n",
       "      <td>309.0</td>\n",
       "      <td>308.50</td>\n",
       "      <td>3.0</td>\n",
       "    </tr>\n",
       "    <tr>\n",
       "      <th>Амарант</th>\n",
       "      <td>132.760012</td>\n",
       "      <td>187.5</td>\n",
       "      <td>169.00</td>\n",
       "      <td>5.0</td>\n",
       "    </tr>\n",
       "    <tr>\n",
       "      <th>Аммобиум</th>\n",
       "      <td>256.708042</td>\n",
       "      <td>180.5</td>\n",
       "      <td>178.75</td>\n",
       "      <td>4.0</td>\n",
       "    </tr>\n",
       "    <tr>\n",
       "      <th>Арктотис</th>\n",
       "      <td>73.879984</td>\n",
       "      <td>185.0</td>\n",
       "      <td>190.50</td>\n",
       "      <td>3.0</td>\n",
       "    </tr>\n",
       "    <tr>\n",
       "      <th>Астильба</th>\n",
       "      <td>376.143149</td>\n",
       "      <td>423.0</td>\n",
       "      <td>435.50</td>\n",
       "      <td>4.0</td>\n",
       "    </tr>\n",
       "  </tbody>\n",
       "</table>\n",
       "</div>"
      ],
      "text/plain": [
       "          time_spent  good_time_spent  median_time  stations\n",
       "name                                                        \n",
       "Агератум  337.802721            309.0       308.50       3.0\n",
       "Амарант   132.760012            187.5       169.00       5.0\n",
       "Аммобиум  256.708042            180.5       178.75       4.0\n",
       "Арктотис   73.879984            185.0       190.50       3.0\n",
       "Астильба  376.143149            423.0       435.50       4.0"
      ]
     },
     "execution_count": 1,
     "metadata": {},
     "output_type": "execute_result"
    }
   ],
   "source": [
    "import pandas as pd\n",
    "\n",
    "df = pd.read_csv('visits.csv', sep='\\t')\n",
    "\n",
    "df['too_fast'] = df['time_spent'] < 60\n",
    "df['too_slow'] = df['time_spent'] > 1000\n",
    "\n",
    "too_fast_stat = df.pivot_table(index='id', values='too_fast')\n",
    "\n",
    "good_ids = too_fast_stat.query('too_fast < 0.5')\n",
    "good_data = df.query('id in @good_ids.index')\n",
    "good_data = good_data.query('60 <= time_spent <= 1000')\n",
    "\n",
    "station_stat = df.pivot_table(\n",
    "    index='id', values='time_spent', aggfunc='median')\n",
    "good_stations_stat = good_data.pivot_table(\n",
    "    index='id', values='time_spent', aggfunc='median')\n",
    "\n",
    "stat = df.pivot_table(index='name', values='time_spent')\n",
    "good_stat = good_data.pivot_table(\n",
    "    index='name', values='time_spent', aggfunc='median')\n",
    "stat['good_time_spent'] = good_stat['time_spent']\n",
    "\n",
    "id_name = good_data.pivot_table(\n",
    "    index='id', values='name', aggfunc=['first', 'count'])\n",
    "id_name.columns = ['name', 'count']\n",
    "\n",
    "station_stat_full = id_name.join(good_stations_stat)\n",
    "\n",
    "good_stat2 = (\n",
    "    station_stat_full\n",
    "    .query('count > 30').pivot_table(\n",
    "        index='name', values='time_spent', aggfunc=['median', 'count']))\n",
    "\n",
    "good_stat2.columns = ['median_time', 'stations']\n",
    "final_stat = stat.join(good_stat2)\n",
    "final_stat.head()"
   ]
  },
  {
   "cell_type": "code",
   "execution_count": 2,
   "id": "8649dd18",
   "metadata": {},
   "outputs": [
    {
     "data": {
      "text/plain": [
       "<AxesSubplot:xlabel='name'>"
      ]
     },
     "execution_count": 2,
     "metadata": {},
     "output_type": "execute_result"
    },
    {
     "data": {
      "image/png": "[encoded data removed]",
      "text/plain": [
       "<Figure size 720x360 with 1 Axes>"
      ]
     },
     "metadata": {
      "needs_background": "light"
     },
     "output_type": "display_data"
    }
   ],
   "source": [
    "final_stat.sort_values(by='median_time', ascending=True).plot(\n",
    "    y='median_time', kind='bar', figsize=(10, 5))\n"
   ]
  },
  {
   "cell_type": "code",
   "execution_count": 3,
   "id": "a2a4fb47",
   "metadata": {},
   "outputs": [
    {
     "data": {
      "text/plain": [
       "<AxesSubplot:xlabel='name'>"
      ]
     },
     "execution_count": 3,
     "metadata": {},
     "output_type": "execute_result"
    },
    {
     "data": {
      "image/png": "[encoded data removed]",
      "text/plain": [
       "<Figure size 720x360 with 1 Axes>"
      ]
     },
     "metadata": {
      "needs_background": "light"
     },
     "output_type": "display_data"
    }
   ],
   "source": [
    "final_stat.sort_values(by='median_time', ascending=True).dropna(\n",
    "    subset=['median_time']).plot(\n",
    "    y='median_time',\n",
    "    kind='bar',\n",
    "    figsize=(10, 5),\n",
    "    grid=True)"
   ]
  },
  {
   "cell_type": "code",
   "execution_count": 4,
   "id": "5edc7448",
   "metadata": {},
   "outputs": [
    {
     "data": {
      "text/plain": [
       "<AxesSubplot:>"
      ]
     },
     "execution_count": 4,
     "metadata": {},
     "output_type": "execute_result"
    },
    {
     "data": {
      "image/png": "[encoded data removed]",
      "text/plain": [
       "<Figure size 432x288 with 1 Axes>"
      ]
     },
     "metadata": {
      "needs_background": "light"
     },
     "output_type": "display_data"
    }
   ],
   "source": [
    "final_stat['stations'].hist(bins=100)"
   ]
  },
  {
   "cell_type": "code",
   "execution_count": 5,
   "id": "9925625f",
   "metadata": {},
   "outputs": [
    {
     "data": {
      "text/html": [
       "<div>\n",
       "<style scoped>\n",
       "    .dataframe tbody tr th:only-of-type {\n",
       "        vertical-align: middle;\n",
       "    }\n",
       "\n",
       "    .dataframe tbody tr th {\n",
       "        vertical-align: top;\n",
       "    }\n",
       "\n",
       "    .dataframe thead th {\n",
       "        text-align: right;\n",
       "    }\n",
       "</style>\n",
       "<table border=\"1\" class=\"dataframe\">\n",
       "  <thead>\n",
       "    <tr style=\"text-align: right;\">\n",
       "      <th></th>\n",
       "      <th>time_spent</th>\n",
       "      <th>good_time_spent</th>\n",
       "      <th>median_time</th>\n",
       "      <th>stations</th>\n",
       "    </tr>\n",
       "    <tr>\n",
       "      <th>name</th>\n",
       "      <th></th>\n",
       "      <th></th>\n",
       "      <th></th>\n",
       "      <th></th>\n",
       "    </tr>\n",
       "  </thead>\n",
       "  <tbody>\n",
       "    <tr>\n",
       "      <th>Василёк</th>\n",
       "      <td>268.849897</td>\n",
       "      <td>264.0</td>\n",
       "      <td>252.00</td>\n",
       "      <td>103.0</td>\n",
       "    </tr>\n",
       "    <tr>\n",
       "      <th>Гейхера</th>\n",
       "      <td>167.445947</td>\n",
       "      <td>204.0</td>\n",
       "      <td>192.00</td>\n",
       "      <td>12.0</td>\n",
       "    </tr>\n",
       "    <tr>\n",
       "      <th>Календула</th>\n",
       "      <td>207.357323</td>\n",
       "      <td>254.0</td>\n",
       "      <td>240.00</td>\n",
       "      <td>36.0</td>\n",
       "    </tr>\n",
       "    <tr>\n",
       "      <th>Колокольчик</th>\n",
       "      <td>119.131564</td>\n",
       "      <td>161.0</td>\n",
       "      <td>161.00</td>\n",
       "      <td>21.0</td>\n",
       "    </tr>\n",
       "    <tr>\n",
       "      <th>Люпин</th>\n",
       "      <td>235.440937</td>\n",
       "      <td>186.0</td>\n",
       "      <td>200.00</td>\n",
       "      <td>13.0</td>\n",
       "    </tr>\n",
       "    <tr>\n",
       "      <th>Мальва</th>\n",
       "      <td>136.562234</td>\n",
       "      <td>182.0</td>\n",
       "      <td>177.75</td>\n",
       "      <td>22.0</td>\n",
       "    </tr>\n",
       "    <tr>\n",
       "      <th>Немезия</th>\n",
       "      <td>186.535207</td>\n",
       "      <td>226.0</td>\n",
       "      <td>227.50</td>\n",
       "      <td>21.0</td>\n",
       "    </tr>\n",
       "    <tr>\n",
       "      <th>Роза</th>\n",
       "      <td>260.877217</td>\n",
       "      <td>315.0</td>\n",
       "      <td>350.00</td>\n",
       "      <td>18.0</td>\n",
       "    </tr>\n",
       "  </tbody>\n",
       "</table>\n",
       "</div>"
      ],
      "text/plain": [
       "             time_spent  good_time_spent  median_time  stations\n",
       "name                                                           \n",
       "Василёк      268.849897            264.0       252.00     103.0\n",
       "Гейхера      167.445947            204.0       192.00      12.0\n",
       "Календула    207.357323            254.0       240.00      36.0\n",
       "Колокольчик  119.131564            161.0       161.00      21.0\n",
       "Люпин        235.440937            186.0       200.00      13.0\n",
       "Мальва       136.562234            182.0       177.75      22.0\n",
       "Немезия      186.535207            226.0       227.50      21.0\n",
       "Роза         260.877217            315.0       350.00      18.0"
      ]
     },
     "execution_count": 5,
     "metadata": {},
     "output_type": "execute_result"
    }
   ],
   "source": [
    "big_nets_stat = final_stat.query('stations > 10')\n",
    "big_nets_stat.head(10)\n"
   ]
  },
  {
   "cell_type": "code",
   "execution_count": 6,
   "id": "534dd8f0",
   "metadata": {},
   "outputs": [
    {
     "data": {
      "text/html": [
       "<div>\n",
       "<style scoped>\n",
       "    .dataframe tbody tr th:only-of-type {\n",
       "        vertical-align: middle;\n",
       "    }\n",
       "\n",
       "    .dataframe tbody tr th {\n",
       "        vertical-align: top;\n",
       "    }\n",
       "\n",
       "    .dataframe thead th {\n",
       "        text-align: right;\n",
       "    }\n",
       "</style>\n",
       "<table border=\"1\" class=\"dataframe\">\n",
       "  <thead>\n",
       "    <tr style=\"text-align: right;\">\n",
       "      <th></th>\n",
       "      <th>name</th>\n",
       "      <th>count</th>\n",
       "      <th>time_spent</th>\n",
       "      <th>group_name</th>\n",
       "    </tr>\n",
       "    <tr>\n",
       "      <th>id</th>\n",
       "      <th></th>\n",
       "      <th></th>\n",
       "      <th></th>\n",
       "      <th></th>\n",
       "    </tr>\n",
       "  </thead>\n",
       "  <tbody>\n",
       "    <tr>\n",
       "      <th>00ca1b70</th>\n",
       "      <td>Вероника</td>\n",
       "      <td>131</td>\n",
       "      <td>166.0</td>\n",
       "      <td>Другие</td>\n",
       "    </tr>\n",
       "    <tr>\n",
       "      <th>0178ce70</th>\n",
       "      <td>Василёк</td>\n",
       "      <td>164</td>\n",
       "      <td>234.5</td>\n",
       "      <td>Василёк</td>\n",
       "    </tr>\n",
       "    <tr>\n",
       "      <th>01abf4e9</th>\n",
       "      <td>Гацания</td>\n",
       "      <td>30</td>\n",
       "      <td>181.5</td>\n",
       "      <td>Другие</td>\n",
       "    </tr>\n",
       "    <tr>\n",
       "      <th>030a9067</th>\n",
       "      <td>Колокольчик</td>\n",
       "      <td>228</td>\n",
       "      <td>135.5</td>\n",
       "      <td>Колокольчик</td>\n",
       "    </tr>\n",
       "    <tr>\n",
       "      <th>03740f2d</th>\n",
       "      <td>Василёк</td>\n",
       "      <td>157</td>\n",
       "      <td>289.0</td>\n",
       "      <td>Василёк</td>\n",
       "    </tr>\n",
       "  </tbody>\n",
       "</table>\n",
       "</div>"
      ],
      "text/plain": [
       "                 name  count  time_spent   group_name\n",
       "id                                                   \n",
       "00ca1b70     Вероника    131       166.0       Другие\n",
       "0178ce70      Василёк    164       234.5      Василёк\n",
       "01abf4e9      Гацания     30       181.5       Другие\n",
       "030a9067  Колокольчик    228       135.5  Колокольчик\n",
       "03740f2d      Василёк    157       289.0      Василёк"
      ]
     },
     "execution_count": 6,
     "metadata": {},
     "output_type": "execute_result"
    }
   ],
   "source": [
    "big_nets_stat_index = big_nets_stat.index\n",
    "station_stat_full['group_name'] = station_stat_full['name'].where(\n",
    "    station_stat_full['name'].isin(big_nets_stat_index), 'Другие')\n",
    "station_stat_full.sort_values(by='time_spent', ascending=True)\n",
    "station_stat_full.head()"
   ]
  },
  {
   "cell_type": "code",
   "execution_count": 7,
   "id": "ca2bf357",
   "metadata": {},
   "outputs": [
    {
     "data": {
      "text/html": [
       "<div>\n",
       "<style scoped>\n",
       "    .dataframe tbody tr th:only-of-type {\n",
       "        vertical-align: middle;\n",
       "    }\n",
       "\n",
       "    .dataframe tbody tr th {\n",
       "        vertical-align: top;\n",
       "    }\n",
       "\n",
       "    .dataframe thead th {\n",
       "        text-align: right;\n",
       "    }\n",
       "</style>\n",
       "<table border=\"1\" class=\"dataframe\">\n",
       "  <thead>\n",
       "    <tr style=\"text-align: right;\">\n",
       "      <th></th>\n",
       "      <th>time_spent</th>\n",
       "      <th>count</th>\n",
       "    </tr>\n",
       "    <tr>\n",
       "      <th>group_name</th>\n",
       "      <th></th>\n",
       "      <th></th>\n",
       "    </tr>\n",
       "  </thead>\n",
       "  <tbody>\n",
       "    <tr>\n",
       "      <th>Василёк</th>\n",
       "      <td>250.00</td>\n",
       "      <td>107</td>\n",
       "    </tr>\n",
       "    <tr>\n",
       "      <th>Гейхера</th>\n",
       "      <td>192.00</td>\n",
       "      <td>12</td>\n",
       "    </tr>\n",
       "    <tr>\n",
       "      <th>Другие</th>\n",
       "      <td>208.75</td>\n",
       "      <td>124</td>\n",
       "    </tr>\n",
       "    <tr>\n",
       "      <th>Календула</th>\n",
       "      <td>240.00</td>\n",
       "      <td>36</td>\n",
       "    </tr>\n",
       "    <tr>\n",
       "      <th>Колокольчик</th>\n",
       "      <td>161.00</td>\n",
       "      <td>21</td>\n",
       "    </tr>\n",
       "    <tr>\n",
       "      <th>Люпин</th>\n",
       "      <td>205.00</td>\n",
       "      <td>18</td>\n",
       "    </tr>\n",
       "    <tr>\n",
       "      <th>Мальва</th>\n",
       "      <td>177.75</td>\n",
       "      <td>22</td>\n",
       "    </tr>\n",
       "    <tr>\n",
       "      <th>Немезия</th>\n",
       "      <td>227.50</td>\n",
       "      <td>21</td>\n",
       "    </tr>\n",
       "    <tr>\n",
       "      <th>Роза</th>\n",
       "      <td>315.50</td>\n",
       "      <td>25</td>\n",
       "    </tr>\n",
       "  </tbody>\n",
       "</table>\n",
       "</div>"
      ],
      "text/plain": [
       "             time_spent  count\n",
       "group_name                    \n",
       "Василёк          250.00    107\n",
       "Гейхера          192.00     12\n",
       "Другие           208.75    124\n",
       "Календула        240.00     36\n",
       "Колокольчик      161.00     21\n",
       "Люпин            205.00     18\n",
       "Мальва           177.75     22\n",
       "Немезия          227.50     21\n",
       "Роза             315.50     25"
      ]
     },
     "execution_count": 7,
     "metadata": {},
     "output_type": "execute_result"
    }
   ],
   "source": [
    "stat_grouped = (\n",
    "    station_stat_full\n",
    "    .pivot_table(\n",
    "        index='group_name', values='time_spent', aggfunc=['median','count']))\n",
    "stat_grouped.columns = ['time_spent', 'count']\n",
    "stat_grouped.sort_values(by='time_spent', ascending=True)\n",
    "\n",
    "stat_grouped.head(10)"
   ]
  },
  {
   "cell_type": "code",
   "execution_count": 8,
   "id": "c4c6a9e0",
   "metadata": {},
   "outputs": [
    {
     "data": {
      "text/plain": [
       "<AxesSubplot:ylabel='count'>"
      ]
     },
     "execution_count": 8,
     "metadata": {},
     "output_type": "execute_result"
    },
    {
     "data": {
      "image/png": "[encoded data removed]",
      "text/plain": [
       "<Figure size 576x576 with 1 Axes>"
      ]
     },
     "metadata": {},
     "output_type": "display_data"
    }
   ],
   "source": [
    "stat_grouped.plot(y='count', kind='pie', figsize=(8,8))"
   ]
  },
  {
   "cell_type": "code",
   "execution_count": 9,
   "id": "3c0a26a3",
   "metadata": {},
   "outputs": [],
   "source": [
    "good_data['group_name'] = station_stat_full['name'].where(\n",
    "    good_data['name'].isin(big_nets_stat_index), 'Другие')"
   ]
  },
  {
   "cell_type": "code",
   "execution_count": 12,
   "id": "bae993ca",
   "metadata": {},
   "outputs": [],
   "source": [
    "for name, group_data in good_data.groupby('group_name'):\n",
    "    stat_grouped['time_spent'].hist(bins=50)"
   ]
  },
  {
   "cell_type": "code",
   "execution_count": null,
   "id": "743b3aab",
   "metadata": {},
   "outputs": [],
   "source": []
  },
  {
   "cell_type": "code",
   "execution_count": 11,
   "id": "9d43e16b",
   "metadata": {},
   "outputs": [],
   "source": [
    "for name, group_data in good_data.groupby('group_name'):\n",
    "    group_data.plot(y='time_spent', title=name, kind='hist', bins=50)"
   ]
  },
  {
   "cell_type": "code",
   "execution_count": null,
   "id": "81d83bb0",
   "metadata": {},
   "outputs": [],
   "source": []
  },
  {
   "cell_type": "code",
   "execution_count": null,
   "id": "7cacef3c",
   "metadata": {},
   "outputs": [],
   "source": []
  },
  {
   "cell_type": "code",
   "execution_count": null,
   "id": "271709e3",
   "metadata": {},
   "outputs": [],
   "source": []
  }
 ],
 "metadata": {
  "kernelspec": {
   "display_name": "Python 3 (ipykernel)",
   "language": "python",
   "name": "python3"
  },
  "language_info": {
   "codemirror_mode": {
    "name": "ipython",
    "version": 3
   },
   "file_extension": ".py",
   "mimetype": "text/x-python",
   "name": "python",
   "nbconvert_exporter": "python",
   "pygments_lexer": "ipython3",
   "version": "3.9.12"
  }
 },
 "nbformat": 4,
 "nbformat_minor": 5
}
